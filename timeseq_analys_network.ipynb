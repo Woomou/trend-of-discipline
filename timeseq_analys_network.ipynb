{
 "cells": [
  {
   "cell_type": "code",
   "execution_count": null,
   "metadata": {},
   "outputs": [],
   "source": [
    "import numpy as np"
   ]
  },
  {
   "cell_type": "code",
   "execution_count": null,
   "metadata": {},
   "outputs": [],
   "source": [
    "month_to_day = {'JAN':31,'FEB':60,'MAR':91,'APR':121,'MAY':152,'JUN':182,'JUL':213,'AUG':244,'SEP':274,'OCT':305,'NOV':335,'DEC':366}\n",
    "def to_day(month, day):\n",
    "    return month_to_day[month]+int(day)"
   ]
  },
  {
   "cell_type": "code",
   "execution_count": null,
   "metadata": {},
   "outputs": [],
   "source": [
    "\"\"\"\n",
    "时间序列单元\n",
    "记录三个数据，引文网络中的ID，时间和研究领域；\n",
    "有三类方法，比较大小（时序），获取关键词，以及保存为时间序列单元型数据。\n",
    "\"\"\"\n",
    "class Timeseq_unit():\n",
    "    def __init__(self, pid, day, year):\n",
    "        self.pid = pid#引文网络中的ID\n",
    "        self.day = day\n",
    "        self.year = int(year)\n",
    "    #重载大于小于运算，方便比较。\n",
    "    def __lt__(self, other):\n",
    "        if self.year < other.year:\n",
    "            return True\n",
    "        elif (self.year == other.year) and (self.day <= other.day):\n",
    "            return True\n",
    "        else:\n",
    "            return False\n",
    "    def __gt__(self, other):\n",
    "        if self.year > other.year:\n",
    "            return True\n",
    "        elif (self.year == other.year) and (self.day >= other.day):\n",
    "            return True\n",
    "        else:\n",
    "            return False\n",
    "    #更多功能。\n",
    "    def get_fields():\n",
    "        pass\n",
    "    def get_develop():\n",
    "        pass"
   ]
  },
  {
   "cell_type": "code",
   "execution_count": null,
   "metadata": {},
   "outputs": [],
   "source": [
    "\"\"\"\n",
    "时间序列链\n",
    "根据对时间序列单元的比较分析给出如下结果：\n",
    "1.某一论文的前后相关论文发表轨迹；\n",
    "2.某一领域论文发表轨迹，关键词变化；\n",
    "\"\"\"\n",
    "class Timeseq_chain():\n",
    "    def __init__(self, *timeseq_units):\n",
    "        pass"
   ]
  },
  {
   "cell_type": "code",
   "execution_count": null,
   "metadata": {},
   "outputs": [],
   "source": [
    "given_data = np.load(\"metadatas.npy\",allow_pickle=True)"
   ]
  },
  {
   "cell_type": "code",
   "execution_count": null,
   "metadata": {},
   "outputs": [],
   "source": []
  }
 ],
 "metadata": {
  "language_info": {
   "codemirror_mode": {
    "name": "ipython",
    "version": 3
   },
   "file_extension": ".py",
   "mimetype": "text/x-python",
   "name": "python",
   "nbconvert_exporter": "python",
   "pygments_lexer": "ipython3",
   "version": 3
  },
  "orig_nbformat": 2
 },
 "nbformat": 4,
 "nbformat_minor": 2
}