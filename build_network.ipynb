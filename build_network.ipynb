{
 "cells": [
  {
   "cell_type": "code",
   "execution_count": 1,
   "metadata": {},
   "outputs": [],
   "source": [
    "import numpy as np\n",
    "import pandas as pd\n",
    "import networkx as nx\n",
    "import json"
   ]
  },
  {
   "cell_type": "code",
   "execution_count": 2,
   "metadata": {},
   "outputs": [],
   "source": [
    "# 首先要解压得到metadatas.npy\n",
    "data = np.load('metadatas.npy',allow_pickle=True)"
   ]
  },
  {
   "cell_type": "code",
   "execution_count": 3,
   "metadata": {},
   "outputs": [],
   "source": [
    "paper2id = {}\n",
    "i = 0\n",
    "for l in data:\n",
    "    if 'DI' in l:\n",
    "        paper2id[l['DI'][0]] = i\n",
    "        i += 1"
   ]
  },
  {
   "cell_type": "code",
   "execution_count": 4,
   "metadata": {},
   "outputs": [
    {
     "name": "stdout",
     "output_type": "stream",
     "text": [
      "处理0篇论文\n",
      "处理2000篇论文\n",
      "处理4000篇论文\n",
      "处理6000篇论文\n",
      "处理8000篇论文\n",
      "处理10000篇论文\n",
      "处理12000篇论文\n",
      "处理14000篇论文\n",
      "处理16000篇论文\n",
      "处理18000篇论文\n",
      "处理20000篇论文\n",
      "处理22000篇论文\n",
      "处理24000篇论文\n"
     ]
    }
   ],
   "source": [
    "adj_list = []  # 用邻接表的形式存储图 [source target1 target2]\n",
    "\n",
    "for idx,item in enumerate(data):  \n",
    "    if idx%2000 == 0:\n",
    "        print(f\"处理{idx}篇论文\")\n",
    "    line = []\n",
    "    if 'DI' in item:\n",
    "        source = item['DI'][0]\n",
    "        source = paper2id[source]\n",
    "        line.append(source)\n",
    "        if 'CR' in item:\n",
    "            for p in item['CR']:\n",
    "                if 'DOI' in p:\n",
    "                    target = p.split('DOI')[1].strip()\n",
    "                    if target in paper2id:\n",
    "                        target = paper2id[target]\n",
    "                        line.append(target)\n",
    "        adj_list.append(line)"
   ]
  },
  {
   "cell_type": "code",
   "execution_count": 5,
   "metadata": {},
   "outputs": [],
   "source": [
    "with open('paper2id.json','w') as f:\n",
    "    json.dump(paper2id,f)"
   ]
  },
  {
   "cell_type": "code",
   "execution_count": 6,
   "metadata": {},
   "outputs": [],
   "source": [
    "with open('adj_list.txt','w') as f:\n",
    "    for line in adj_list:\n",
    "        line = [str(l) for l in line]\n",
    "        line = ' '.join(line)\n",
    "        f.write(line+'\\n')"
   ]
  },
  {
   "cell_type": "code",
   "execution_count": null,
   "metadata": {},
   "outputs": [],
   "source": []
  }
 ],
 "metadata": {
  "kernelspec": {
   "display_name": "Python 3",
   "language": "python",
   "name": "python3"
  },
  "language_info": {
   "codemirror_mode": {
    "name": "ipython",
    "version": 3
   },
   "file_extension": ".py",
   "mimetype": "text/x-python",
   "name": "python",
   "nbconvert_exporter": "python",
   "pygments_lexer": "ipython3",
   "version": "3.6.5"
  }
 },
 "nbformat": 4,
 "nbformat_minor": 2
}
